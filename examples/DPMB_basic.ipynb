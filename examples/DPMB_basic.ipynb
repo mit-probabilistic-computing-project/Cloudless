{
 "metadata": {
  "name": "DPMB_basic"
 }, 
 "name": "DPMB_basic", 
 "nbformat": 2, 
 "worksheets": [
  {
   "cells": [
    {
     "cell_type": "code", 
     "collapsed": false, 
     "input": "import Cloudless.base\nreload(Cloudless.base) # to make it easy to develop locally                                                                                                             \nimport Cloudless.memo\nreload(Cloudless.memo) # to make it easy to develop locally                                                                                                             \nimport matplotlib\nmatplotlib.use('Agg')\nimport pylab\nfrom IPython.parallel import *", 
     "language": "python", 
     "outputs": [
      {
       "output_type": "stream", 
       "stream": "stderr", 
       "text": "/usr/lib/pymodules/python2.7/matplotlib/__init__.py:890: UserWarning:  This call to matplotlib.use() has no effect\nbecause the the backend has already been chosen;\nmatplotlib.use() must be called *before* pylab, matplotlib.pyplot,\nor matplotlib.backends is imported for the first time.\n\n  if warn: warnings.warn(_use_error_msg)"
      }
     ], 
     "prompt_number": 1
    }, 
    {
     "cell_type": "code", 
     "collapsed": true, 
     "input": "Cloudless.base.remote_mode()\nCloudless.base.remote_exec('import Cloudless.examples.DPMB as dm')\nCloudless.base.remote_exec('reload(dm)')\nCloudless.base.remote_exec('import Cloudless.examples.DPMB_State as ds')\nCloudless.base.remote_exec('reload(ds)')\nCloudless.base.remote_exec('import time')\nCloudless.base.remote_exec('import numpy as np')\nimport Cloudless.examples.DPMB as dm\nreload(dm)\nimport Cloudless.examples.DPMB_State as ds\nreload(ds)\nimport time\nimport numpy as np", 
     "language": "python", 
     "outputs": [], 
     "prompt_number": 2
    }, 
    {
     "cell_type": "code", 
     "collapsed": true, 
     "input": "def do_plots(x_vars=None,y_vars=None):\n    x_vars = x_vars if x_vars is not None else [\"TIME\",\"ITER\"]\n    y_vars = y_vars if y_vars is not None else [\"ari\",\"predictive_prob\",\"log_score\"]\n    CLUSTER_STR = str(POINTS_PER_CLUSTER) + \"*\" + str(CLUSTERS)\n    TITLE_STR = \"{Clusters*Points}xC: \" + CLUSTER_STR + \"x\" + str(COLS) + \"; NUM_ITERS: \" + str(NUM_ITERS) + \"; ALPHA: \" + str(ALPHA)\n    TIME_LABEL = 'Time Elapsed (seconds)'\n    ITER_LABEL = 'Iteration number'\n    TIME_ARR = np.array(time_delta).T\n    ITER_ARR = np.repeat(range(NUM_ITERS),NUM_SIMS).reshape(NUM_ITERS,NUM_SIMS)\n    ##                                                                                                                                                                  \n    for y_var_str in y_vars:\n        for x_var_str in x_vars:\n            fh = pylab.figure()\n            pylab.plot(locals()[x_var_str+\"_ARR\"], np.array(globals()[y_var_str]).T)\n            if y_var_str==\"predictive_prob\":\n                pylab.hlines(true_prob,*fh.get_axes()[0].get_xlim(),colors='r',linewidth=3)\n            pylab.title(TITLE_STR)\n            pylab.xlabel(locals()[x_var_str+\"_LABEL\"])\n            pylab.ylabel(y_var_str)\n            pylab.show()\n            pylab.savefig(y_var_str+'_by_' + x_var_str.lower() + '.png')", 
     "language": "python", 
     "outputs": [], 
     "prompt_number": 3
    }, 
    {
     "cell_type": "code", 
     "collapsed": true, 
     "input": "def raw_testjob(gen_seed,inf_seed,clusters,points_per_cluster,num_iters,cols,alpha,beta,infer_hypers):\n    paramDict = {\"inferAlpha\":infer_hypers,\"inferBetas\":infer_hypers,\"alpha\":alpha,\"beta\":beta}\n    gen_state_with_data = dm.gen_dataset(gen_seed,None,cols,alpha,beta,np.repeat(points_per_cluster,clusters))\n    gen_sample_output = dm.gen_sample(inf_seed, gen_state_with_data[\"observables\"], num_iters,{\"alpha\":alpha,\"betas\":np.repeat(.1,cols)}\n                                      ,None,paramDict=paramDict,gen_state_with_data=gen_state_with_data)\n    predictive_prob = dm.test_model(gen_state_with_data[\"observables\"],gen_sample_output[\"state\"])\n    return gen_sample_output,predictive_prob\n\n# make memoized job (re-eval if the job code changes, or to reset cache)                                                                                                \ntestjob = Cloudless.memo.AsyncMemoize(\"testjob\", [\"gen_seed\",\"inf_seed\",\"clusters\",\"points_per_cluster\",\"num_iters\",\"cols\",\"alpha\",\"beta\",\"infer_hypers\"], raw_testjob,\\\n override=True)", 
     "language": "python", 
     "outputs": [], 
     "prompt_number": 4
    }, 
    {
     "cell_type": "code", 
     "collapsed": true, 
     "input": "CLUSTERS = 10\nPOINTS_PER_CLUSTER = 50\nNUM_ITERS = 30\nGEN_SEED = 0\nNUM_SIMS = 5\n##BELOW ARE FAIRLY STATIC VALUES                                                                                                                                        \nCOLS = 256\nBETA = .1\nINFER_HYPERS = False\nALPHA = dm.mle_alpha(clusters=CLUSTERS,points_per_cluster=POINTS_PER_CLUSTER)\n# request the computation (re-eval if e.g. the range changes)                                                                                                           \nfor inf_seed in range(NUM_SIMS):\n    testjob(GEN_SEED,inf_seed,CLUSTERS,POINTS_PER_CLUSTER,NUM_ITERS,COLS,ALPHA,BETA,INFER_HYPERS)", 
     "language": "python", 
     "outputs": [], 
     "prompt_number": 5
    }, 
    {
     "cell_type": "code", 
     "collapsed": false, 
     "input": "status = testjob.report_status()\ntime_delta = []\nlog_score = []\npredictive_prob = []\nari = []\nnum_clusters = []\ninit_num_clusters = []\nDATASET = dm.gen_dataset(GEN_SEED,None,COLS,ALPHA,BETA,np.repeat(POINTS_PER_CLUSTER,CLUSTERS))\ntrue_prob = dm.test_model(DATASET[\"test_data\"],DATASET[\"gen_state\"])\n##                                                                                                                                                                      \nfor (k, v) in testjob.iter():\n    z_delta = np.array([x[\"timing\"][\"zs\"][\"delta\"].total_seconds() for x in v[0][\"stats\"]]).cumsum()\n    if \"alpha\" in v[0][\"stats\"][0][\"timing\"]:\n        alpha_delta = np.array([x[\"timing\"][\"alpha\"][\"delta\"].total_seconds() for x in v[0][\"stats\"]]).cumsum()\n    else:\n        alpha_delta = np.zeros(np.shape(z_delta))\n    if \"beta\" in v[0][\"stats\"][0][\"timing\"]:\n        beta_delta = np.array([x[\"timing\"][\"beta\"][\"delta\"].total_seconds() for x in v[0][\"stats\"]]).cumsum()\n    else:\n        beta_delta = np.zeros(np.shape(z_delta))\n    time_delta.append(z_delta+alpha_delta+beta_delta)\n    log_score.append(np.array([x[\"score\"] for x in v[0][\"stats\"]]))\n    predictive_prob.append(np.array([x[\"predictive_prob\"] for x in v[0][\"stats\"]]))\n    ari.append(np.array([x[\"ari\"] for x in v[0][\"stats\"]]))\n    num_clusters.append(np.array([x[\"numClusters\"] for x in v[0][\"stats\"]]))\n    init_num_clusters.append(v[0][\"init_num_clusters\"])", 
     "language": "python", 
     "outputs": [
      {
       "output_type": "stream", 
       "stream": "stdout", 
       "text": "STATS: 0 unclaimed successful, 0 failed, 5 waiting."
      }
     ], 
     "prompt_number": 6
    }, 
    {
     "cell_type": "code", 
     "collapsed": true, 
     "input": "do_plots()", 
     "language": "python", 
     "outputs": [], 
     "prompt_number": "&nbsp;"
    }
   ]
  }
 ]
}