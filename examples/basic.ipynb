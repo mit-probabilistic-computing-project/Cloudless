{
 "metadata": {
  "name": "basic.py notebook"
 }, 
 "name": "basic", 
 "nbformat": 2, 
 "worksheets": [
  {
   "cells": [
    {
     "cell_type": "code", 
     "collapsed": false, 
     "input": "import Cloudless.base\nreload(Cloudless.base)\nimport Cloudless.memo\nreload(Cloudless.memo)\nimport pylab\nfrom IPython.parallel import *", 
     "language": "python", 
     "outputs": [], 
     "prompt_number": 14
    }, 
    {
     "cell_type": "code", 
     "collapsed": false, 
     "input": "# paste in job definition\n@require('numpy.random', 'time')\ndef raw_testjob(x):\n    # FIXME: imports shouldn't be needed\n    import numpy.random\n    import time\n    time.sleep(numpy.random.uniform(1))\n    return x + numpy.random.normal(0, 1.0)", 
     "language": "python", 
     "outputs": [], 
     "prompt_number": 15
    }, 
    {
     "cell_type": "code", 
     "collapsed": false, 
     "input": "# make memoized job (and/or reset memoizer)\ntestjob = Cloudless.memo.AsyncMemoize(raw_testjob, Cloudless.base.get_view())", 
     "language": "python", 
     "outputs": [], 
     "prompt_number": 16
    }, 
    {
     "cell_type": "code", 
     "collapsed": true, 
     "input": "# set constants\nXRANGE = 50", 
     "language": "python", 
     "outputs": [], 
     "prompt_number": 17
    }, 
    {
     "cell_type": "code", 
     "collapsed": true, 
     "input": "# request the computation\nfor x in range(XRANGE):\n    testjob(x)", 
     "language": "python", 
     "outputs": [], 
     "prompt_number": 18
    }, 
    {
     "cell_type": "code", 
     "collapsed": true, 
     "input": "# get plot data locally\nxs = []\nys = []\nfor (k, v) in testjob.iter():\n    xs.append(k[0])\n    ys.append(v)", 
     "language": "python", 
     "outputs": [], 
     "prompt_number": 23
    }, 
    {
     "cell_type": "code", 
     "collapsed": false, 
     "input": "# make a plot\npylab.figure()\npylab.scatter(xs, ys)\npylab.xlabel('X')\npylab.ylabel('Y')\npylab.show()", 
     "language": "python", 
     "outputs": [
      {
       "output_type": "display_data", 
       "png": "[encoded data removed]"
      }
     ], 
     "prompt_number": 24
    }, 
    {
     "cell_type": "code", 
     "collapsed": true, 
     "input": "", 
     "language": "python", 
     "outputs": [], 
     "prompt_number": "&nbsp;"
    }
   ]
  }
 ]
}